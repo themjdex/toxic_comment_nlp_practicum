{
 "cells": [
  {
   "cell_type": "markdown",
   "metadata": {
    "toc": true
   },
   "source": [
    "<h1>Содержание<span class=\"tocSkip\"></span></h1>\n",
    "<div class=\"toc\"><ul class=\"toc-item\"><li><span><a href=\"#Подготовка\" data-toc-modified-id=\"Подготовка-1\"><span class=\"toc-item-num\">1&nbsp;&nbsp;</span>Подготовка</a></span><ul class=\"toc-item\"><li><span><a href=\"#Знакомство-с-данными\" data-toc-modified-id=\"Знакомство-с-данными-1.1\"><span class=\"toc-item-num\">1.1&nbsp;&nbsp;</span>Знакомство с данными</a></span></li><li><span><a href=\"#Предобработка-данных\" data-toc-modified-id=\"Предобработка-данных-1.2\"><span class=\"toc-item-num\">1.2&nbsp;&nbsp;</span>Предобработка данных</a></span></li><li><span><a href=\"#Подготовка-текста\" data-toc-modified-id=\"Подготовка-текста-1.3\"><span class=\"toc-item-num\">1.3&nbsp;&nbsp;</span>Подготовка текста</a></span></li></ul></li><li><span><a href=\"#Обучение\" data-toc-modified-id=\"Обучение-2\"><span class=\"toc-item-num\">2&nbsp;&nbsp;</span>Обучение</a></span></li><li><span><a href=\"#Выводы\" data-toc-modified-id=\"Выводы-3\"><span class=\"toc-item-num\">3&nbsp;&nbsp;</span>Выводы</a></span></li></ul></div>"
   ]
  },
  {
   "cell_type": "markdown",
   "metadata": {},
   "source": [
    "# Проект для «Викишоп»"
   ]
  },
  {
   "cell_type": "markdown",
   "metadata": {},
   "source": [
    "Интернет-магазин «Викишоп» запускает новый сервис. Теперь пользователи могут редактировать и дополнять описания товаров, как в вики-сообществах. То есть клиенты предлагают свои правки и комментируют изменения других. Магазину нужен инструмент, который будет искать токсичные комментарии и отправлять их на модерацию. \n",
    "\n",
    "Обучите модель классифицировать комментарии на позитивные и негативные. В вашем распоряжении набор данных с разметкой о токсичности правок.\n",
    "\n",
    "Постройте модель со значением метрики качества *F1* не меньше 0.75. \n",
    "\n",
    "**Инструкция по выполнению проекта**\n",
    "\n",
    "1. Загрузите и подготовьте данные.\n",
    "2. Обучите разные модели. \n",
    "3. Сделайте выводы.\n",
    "\n",
    "Для выполнения проекта применять *BERT* необязательно, но вы можете попробовать.\n",
    "\n",
    "**Описание данных**\n",
    "\n",
    "Данные находятся в файле `toxic_comments.csv`. Столбец *text* в нём содержит текст комментария, а *toxic* — целевой признак."
   ]
  },
  {
   "cell_type": "markdown",
   "metadata": {},
   "source": [
    "## Подготовка"
   ]
  },
  {
   "cell_type": "markdown",
   "metadata": {},
   "source": [
    "### Знакомство с данными"
   ]
  },
  {
   "cell_type": "code",
   "execution_count": 1,
   "metadata": {
    "tags": []
   },
   "outputs": [],
   "source": [
    "import re\n",
    "import nltk\n",
    "import spacy\n",
    "import pandas as pd\n",
    "import numpy as np\n",
    "import matplotlib.pyplot as plt\n",
    "\n",
    "from nltk.corpus import stopwords as nltk_stopwords\n",
    "from sklearn.feature_extraction.text import TfidfVectorizer\n",
    "from sklearn.model_selection import train_test_split, GridSearchCV, RandomizedSearchCV\n",
    "from sklearn.linear_model import LogisticRegression, SGDClassifier\n",
    "from sklearn.ensemble import RandomForestClassifier\n",
    "from catboost import CatBoostClassifier\n",
    "from sklearn.metrics import f1_score, roc_curve, roc_auc_score"
   ]
  },
  {
   "cell_type": "code",
   "execution_count": 2,
   "metadata": {},
   "outputs": [],
   "source": [
    "try:\n",
    "    initial_data = pd.read_csv('toxic_comments.csv', index_col=0)\n",
    "except:\n",
    "    raise Exception('Something is wrong. Check the file')"
   ]
  },
  {
   "cell_type": "code",
   "execution_count": 3,
   "metadata": {},
   "outputs": [
    {
     "data": {
      "text/html": [
       "<div>\n",
       "<style scoped>\n",
       "    .dataframe tbody tr th:only-of-type {\n",
       "        vertical-align: middle;\n",
       "    }\n",
       "\n",
       "    .dataframe tbody tr th {\n",
       "        vertical-align: top;\n",
       "    }\n",
       "\n",
       "    .dataframe thead th {\n",
       "        text-align: right;\n",
       "    }\n",
       "</style>\n",
       "<table border=\"1\" class=\"dataframe\">\n",
       "  <thead>\n",
       "    <tr style=\"text-align: right;\">\n",
       "      <th></th>\n",
       "      <th>text</th>\n",
       "      <th>toxic</th>\n",
       "    </tr>\n",
       "  </thead>\n",
       "  <tbody>\n",
       "    <tr>\n",
       "      <th>0</th>\n",
       "      <td>Explanation\\nWhy the edits made under my usern...</td>\n",
       "      <td>0</td>\n",
       "    </tr>\n",
       "    <tr>\n",
       "      <th>1</th>\n",
       "      <td>D'aww! He matches this background colour I'm s...</td>\n",
       "      <td>0</td>\n",
       "    </tr>\n",
       "    <tr>\n",
       "      <th>2</th>\n",
       "      <td>Hey man, I'm really not trying to edit war. It...</td>\n",
       "      <td>0</td>\n",
       "    </tr>\n",
       "    <tr>\n",
       "      <th>3</th>\n",
       "      <td>\"\\nMore\\nI can't make any real suggestions on ...</td>\n",
       "      <td>0</td>\n",
       "    </tr>\n",
       "    <tr>\n",
       "      <th>4</th>\n",
       "      <td>You, sir, are my hero. Any chance you remember...</td>\n",
       "      <td>0</td>\n",
       "    </tr>\n",
       "  </tbody>\n",
       "</table>\n",
       "</div>"
      ],
      "text/plain": [
       "                                                text  toxic\n",
       "0  Explanation\\nWhy the edits made under my usern...      0\n",
       "1  D'aww! He matches this background colour I'm s...      0\n",
       "2  Hey man, I'm really not trying to edit war. It...      0\n",
       "3  \"\\nMore\\nI can't make any real suggestions on ...      0\n",
       "4  You, sir, are my hero. Any chance you remember...      0"
      ]
     },
     "execution_count": 3,
     "metadata": {},
     "output_type": "execute_result"
    }
   ],
   "source": [
    "initial_data.head()"
   ]
  },
  {
   "cell_type": "code",
   "execution_count": 4,
   "metadata": {},
   "outputs": [
    {
     "name": "stdout",
     "output_type": "stream",
     "text": [
      "<class 'pandas.core.frame.DataFrame'>\n",
      "Int64Index: 159292 entries, 0 to 159450\n",
      "Data columns (total 2 columns):\n",
      " #   Column  Non-Null Count   Dtype \n",
      "---  ------  --------------   ----- \n",
      " 0   text    159292 non-null  object\n",
      " 1   toxic   159292 non-null  int64 \n",
      "dtypes: int64(1), object(1)\n",
      "memory usage: 3.6+ MB\n"
     ]
    }
   ],
   "source": [
    "initial_data.info()"
   ]
  },
  {
   "cell_type": "markdown",
   "metadata": {},
   "source": [
    "Видим, что датасет состоит из двух столбцов с текстами правок и оценкой токсичности, где 1 — текст токсичен. Именно последний признак мы хотим научить модель предсказывать. Это будет считаться задачей классификации."
   ]
  },
  {
   "cell_type": "markdown",
   "metadata": {},
   "source": [
    "### Предобработка данных"
   ]
  },
  {
   "cell_type": "markdown",
   "metadata": {},
   "source": [
    "Перед обучением проверим датасет на дубликаты, баланс классов и язык текстов (модель нужно обучать на нужный язык). Пропусков в датасете нет."
   ]
  },
  {
   "cell_type": "code",
   "execution_count": 5,
   "metadata": {},
   "outputs": [],
   "source": [
    "data = initial_data.copy()"
   ]
  },
  {
   "cell_type": "code",
   "execution_count": 6,
   "metadata": {},
   "outputs": [
    {
     "data": {
      "text/plain": [
       "0"
      ]
     },
     "execution_count": 6,
     "metadata": {},
     "output_type": "execute_result"
    }
   ],
   "source": [
    "# проверим наличие дубликатов\n",
    "data.duplicated().sum()"
   ]
  },
  {
   "cell_type": "code",
   "execution_count": 7,
   "metadata": {},
   "outputs": [
    {
     "data": {
      "text/plain": [
       "0    143106\n",
       "1     16186\n",
       "Name: toxic, dtype: int64"
      ]
     },
     "execution_count": 7,
     "metadata": {},
     "output_type": "execute_result"
    }
   ],
   "source": [
    "# проверим баланс классов\n",
    "data['toxic'].value_counts()"
   ]
  },
  {
   "cell_type": "markdown",
   "metadata": {},
   "source": [
    "Видим, что классы несбалансированны. Нам нужно будет это учесть при обучении модели."
   ]
  },
  {
   "cell_type": "code",
   "execution_count": 8,
   "metadata": {},
   "outputs": [
    {
     "data": {
      "text/plain": [
       "False    159033\n",
       "True        259\n",
       "Name: text, dtype: int64"
      ]
     },
     "execution_count": 8,
     "metadata": {},
     "output_type": "execute_result"
    }
   ],
   "source": [
    "# проверим наличие кириллических букв, кажется, что в датасете только английский язык\n",
    "found_cyrillic = data['text'].str.contains(r'[а-яА-ЯёЁ]')\n",
    "found_cyrillic.value_counts()"
   ]
  },
  {
   "cell_type": "markdown",
   "metadata": {},
   "source": [
    "Регулярные выражения нашли в 259 текстах кириллические символы. Возможно, там текст на русском языке. Нужно проверить."
   ]
  },
  {
   "cell_type": "code",
   "execution_count": 9,
   "metadata": {},
   "outputs": [],
   "source": [
    "found_cyrillic_text = data[data['text'].str.contains(r'[а-яА-ЯёЁ]', flags=re.IGNORECASE, regex=True)]\n",
    "\n",
    "# закомментирировано, чтобы список постов не выводился после анализа\n",
    "#for text in found_cyrillic_text['text']:\n",
    "    #print(text)"
   ]
  },
  {
   "cell_type": "markdown",
   "metadata": {},
   "source": [
    "При изучении постов обнаружено, что там используются кириллические символы при описании чего-либо или при переводе на русский, но сами посты на английском языке. Так как эти посты занимают лишь малую часть всего датасета, то мы можем их просто удалить без ущерба для обучения. На другие языки проверям не будем."
   ]
  },
  {
   "cell_type": "code",
   "execution_count": 10,
   "metadata": {},
   "outputs": [],
   "source": [
    "# удаляем эти тексты\n",
    "data = data.drop(index=found_cyrillic_text['text'].index)"
   ]
  },
  {
   "cell_type": "code",
   "execution_count": 11,
   "metadata": {},
   "outputs": [],
   "source": [
    "# пересчитаем индексы\n",
    "data = data.reset_index(drop=True)"
   ]
  },
  {
   "cell_type": "markdown",
   "metadata": {},
   "source": [
    "### Подготовка текста"
   ]
  },
  {
   "cell_type": "markdown",
   "metadata": {},
   "source": [
    "Перед обучением нам также нужно подготовить сами данные для модели."
   ]
  },
  {
   "cell_type": "code",
   "execution_count": 12,
   "metadata": {
    "tags": []
   },
   "outputs": [],
   "source": [
    "# обозначим единый рандом\n",
    "RANDOM_STATE = 999"
   ]
  },
  {
   "cell_type": "code",
   "execution_count": 13,
   "metadata": {},
   "outputs": [],
   "source": [
    "nlp = spacy.load('en_core_web_sm', disable=['parser', 'ner'])"
   ]
  },
  {
   "cell_type": "code",
   "execution_count": 14,
   "metadata": {},
   "outputs": [],
   "source": [
    "# лемматизируем текст\n",
    "def clear_and_lemmatize(text):\n",
    "    doc = nlp(text)\n",
    "    return ' '.join([token.lemma_ for token in doc])"
   ]
  },
  {
   "cell_type": "code",
   "execution_count": 15,
   "metadata": {},
   "outputs": [],
   "source": [
    "# добавим леммы\n",
    "data['lemm_text'] = data['text'].apply(clear_and_lemmatize)"
   ]
  },
  {
   "cell_type": "code",
   "execution_count": 16,
   "metadata": {},
   "outputs": [
    {
     "name": "stderr",
     "output_type": "stream",
     "text": [
      "[nltk_data] Downloading package stopwords to\n",
      "[nltk_data]     C:\\Users\\themj\\AppData\\Roaming\\nltk_data...\n",
      "[nltk_data]   Package stopwords is already up-to-date!\n"
     ]
    },
    {
     "data": {
      "text/plain": [
       "True"
      ]
     },
     "execution_count": 16,
     "metadata": {},
     "output_type": "execute_result"
    }
   ],
   "source": [
    "# загрузим стопслова\n",
    "nltk.download('stopwords')"
   ]
  },
  {
   "cell_type": "code",
   "execution_count": 17,
   "metadata": {
    "tags": []
   },
   "outputs": [
    {
     "data": {
      "text/plain": [
       "((57251, 2), (63614, 2), (57251,), (63614,))"
      ]
     },
     "execution_count": 17,
     "metadata": {},
     "output_type": "execute_result"
    }
   ],
   "source": [
    "# получим обучающую и тестовую выборку с сохранением пропорций целевого признака \n",
    "features_train, features_test, target_train, target_test = train_test_split(\n",
    "    data[['text', 'lemm_text']], data['toxic'], test_size=0.4, stratify=data['toxic'], random_state=RANDOM_STATE)\n",
    "\n",
    "features_train, features_valid, target_train, target_valid = train_test_split(\n",
    "    features_train, target_train, test_size=0.4, stratify=target_train, random_state=RANDOM_STATE)\n",
    "\n",
    "features_train.shape, features_test.shape, target_train.shape, target_test.shape"
   ]
  },
  {
   "cell_type": "code",
   "execution_count": 18,
   "metadata": {},
   "outputs": [],
   "source": [
    "# сбросим индексы для дальнейшей конкатенации массивов\n",
    "features_train = features_train.reset_index(drop=True)\n",
    "features_valid = features_valid.reset_index(drop=True)\n",
    "features_test = features_test.reset_index(drop=True)"
   ]
  },
  {
   "cell_type": "code",
   "execution_count": 19,
   "metadata": {},
   "outputs": [],
   "source": [
    "# зададим стоп-слова\n",
    "stopwords = set(nltk_stopwords.words('english'))"
   ]
  },
  {
   "cell_type": "code",
   "execution_count": 20,
   "metadata": {},
   "outputs": [],
   "source": [
    "# векторизуем тексты\n",
    "count_tf_idf = TfidfVectorizer(stop_words=list(stopwords), max_features=5000) \n",
    "tf_idf_train = count_tf_idf.fit_transform(features_train['lemm_text'])\n",
    "tf_idf_valid = count_tf_idf.transform(features_valid['lemm_text'])\n",
    "tf_idf_test = count_tf_idf.transform(features_test['lemm_text'])"
   ]
  },
  {
   "cell_type": "code",
   "execution_count": 21,
   "metadata": {},
   "outputs": [],
   "source": [
    "# добавим TF-IDF признаки в обучающую выборку и оставим только вектора признаков\n",
    "all_train = pd.concat([features_train, pd.DataFrame(tf_idf_train.toarray())], axis=1).drop(['text', 'lemm_text'], axis=1)\n",
    "all_valid = pd.concat([features_valid, pd.DataFrame(tf_idf_valid.toarray())], axis=1).drop(['text', 'lemm_text'], axis=1)\n",
    "\n",
    "# и в тестовую\n",
    "all_test = pd.concat([features_test, pd.DataFrame(tf_idf_test.toarray())], axis=1).drop(['text', 'lemm_text'], axis=1)"
   ]
  },
  {
   "cell_type": "markdown",
   "metadata": {},
   "source": [
    "Теперь можем перейти к обучению моделей."
   ]
  },
  {
   "cell_type": "markdown",
   "metadata": {},
   "source": [
    "## Обучение"
   ]
  },
  {
   "cell_type": "markdown",
   "metadata": {},
   "source": [
    "Попробуем 4 модели: логистическую регрессию, стохастический градиентный спуск, случайный лес для классификации и градиентный бустинг для классификации. Так как классы у нас не сбаланасированны, то будем указывать гипер-параметр class_weight."
   ]
  },
  {
   "cell_type": "code",
   "execution_count": 22,
   "metadata": {},
   "outputs": [
    {
     "name": "stdout",
     "output_type": "stream",
     "text": [
      "F1: 0.7064060803474486\n"
     ]
    }
   ],
   "source": [
    "model_log_res = LogisticRegression(random_state=RANDOM_STATE, class_weight='balanced', solver='liblinear')\n",
    "model_log_res.fit(all_train, target_train)\n",
    "preds_log_res = model_log_res.predict(all_valid)\n",
    "print(f'F1: {f1_score(target_valid, preds_log_res)}')"
   ]
  },
  {
   "cell_type": "markdown",
   "metadata": {},
   "source": [
    "Значение не доходит до требуемого. Попробуем изменить отсечку."
   ]
  },
  {
   "cell_type": "code",
   "execution_count": 23,
   "metadata": {},
   "outputs": [
    {
     "data": {
      "text/plain": [
       "(0.76, 0.7592052243990552)"
      ]
     },
     "execution_count": 23,
     "metadata": {},
     "output_type": "execute_result"
    }
   ],
   "source": [
    "probs_log_res = model_log_res.predict_proba(all_valid)\n",
    "\n",
    "best_td = 0\n",
    "best_f1 = 0\n",
    "\n",
    "for i in np.arange(0.01, 0.99, 0.01):\n",
    "    proba_n = np.where(probs_log_res[:,1] >= i, 1, 0)\n",
    "    f1_n = f1_score(target_valid, proba_n)\n",
    "    if f1_n > best_f1:\n",
    "        best_f1 = f1_n\n",
    "        best_td = i\n",
    "\n",
    "best_td, best_f1    "
   ]
  },
  {
   "cell_type": "markdown",
   "metadata": {},
   "source": [
    "С настройкой отсечки нам удалось получить удовлетворяющий результат по F1-мере. Посмотрим другие модели."
   ]
  },
  {
   "cell_type": "code",
   "execution_count": 24,
   "metadata": {
    "tags": []
   },
   "outputs": [],
   "source": [
    "# Поиск гиперпараметров был уже произведен следующим образом:\n",
    "\n",
    "# params_rf = [{\n",
    "#     'n_estimators': [20, 50, 100],\n",
    "#     'max_depth': [5, 7, 10],\n",
    "#     'min_samples_split': [2, 3, 4],\n",
    "#     'min_samples_leaf': [1, 2, 3]\n",
    "# }]\n",
    "# model_rf = RandomForestClassifier(random_state=RANDOM_STATE, class_weight='balanced')\n",
    "# grid_search_rf = RandomizedSearchCV(model_rf, params_rf, scoring='f1', cv=3)\n",
    "# grid_search_rf.fit(all_train, target_train)\n",
    "\n",
    "# print(f'Best parameters: {grid_search_rf.best_params_}')\n",
    "# print(f'Best F1: {grid_search_rf.best_score_}')"
   ]
  },
  {
   "cell_type": "code",
   "execution_count": 25,
   "metadata": {},
   "outputs": [
    {
     "name": "stdout",
     "output_type": "stream",
     "text": [
      "F1: 0.4339148733962393\n"
     ]
    }
   ],
   "source": [
    "model_rf = RandomForestClassifier(random_state=RANDOM_STATE, class_weight='balanced', n_estimators=100, min_samples_split=3, min_samples_leaf=1, max_depth=10, n_jobs=-1)\n",
    "model_rf.fit(all_train, target_train)\n",
    "preds_rf = model_rf.predict(all_valid)\n",
    "print(f'F1: {f1_score(target_valid, preds_rf)}')"
   ]
  },
  {
   "cell_type": "markdown",
   "metadata": {},
   "source": [
    "Здесь метрика плохая. Использовать случайный лес вряд ли будем."
   ]
  },
  {
   "cell_type": "code",
   "execution_count": 26,
   "metadata": {
    "tags": []
   },
   "outputs": [
    {
     "name": "stdout",
     "output_type": "stream",
     "text": [
      "F1: 0.6912625418060201\n"
     ]
    }
   ],
   "source": [
    "model_sdg = SGDClassifier(random_state=RANDOM_STATE, class_weight='balanced')\n",
    "model_sdg.fit(all_train, target_train)\n",
    "preds_sdg = model_sdg.predict(all_valid)\n",
    "print(f'F1: {f1_score(target_valid, preds_sdg)}')"
   ]
  },
  {
   "cell_type": "markdown",
   "metadata": {},
   "source": [
    "Скорее всего будет не лучше логистической регрессии. Попробуем градиентный бустинг."
   ]
  },
  {
   "cell_type": "code",
   "execution_count": 27,
   "metadata": {},
   "outputs": [],
   "source": [
    "# params_cb = [{\n",
    "#     'depth': [1, 5, 10],\n",
    "#     'learning_rate': [0.05, 0.1, 0.3]\n",
    "# }]\n",
    "\n",
    "# # Создание модели\n",
    "# model_cb = CatBoostClassifier(random_state=RANDOM_STATE, verbose=0)\n",
    "\n",
    "# # Поиск лучших параметров с помощью GridSearchCV\n",
    "# grid_search_cb = GridSearchCV(model_cb, params_cb, scoring='f1', cv=3, verbose=0, thread_count=-1, task_type='GPU')\n",
    "# grid_search_cb.fit(all_train, target_train)\n",
    "\n",
    "# # Вывод лучших параметров и значения F1\n",
    "# print(f'Best parameters: {grid_search_cb.best_params_}')\n",
    "# print(f'Best F1: {grid_search_cb.best_score_}')"
   ]
  },
  {
   "cell_type": "code",
   "execution_count": 28,
   "metadata": {},
   "outputs": [
    {
     "name": "stderr",
     "output_type": "stream",
     "text": [
      "C:\\Users\\themj\\anaconda3\\lib\\site-packages\\catboost\\core.py:1411: FutureWarning: iteritems is deprecated and will be removed in a future version. Use .items instead.\n",
      "  self._init_pool(data, label, cat_features, text_features, embedding_features, embedding_features_data, pairs, weight,\n"
     ]
    },
    {
     "name": "stdout",
     "output_type": "stream",
     "text": [
      "F1: 0.7569444444444444\n"
     ]
    }
   ],
   "source": [
    "model_cb = CatBoostClassifier(random_state=RANDOM_STATE, verbose=0, depth=10, \n",
    "                              learning_rate=0.3, thread_count=-1, task_type='GPU')\n",
    "model_cb.fit(all_train, target_train)\n",
    "preds_cb = model_cb.predict(all_valid)\n",
    "print(f'F1: {f1_score(target_valid, preds_cb)}')"
   ]
  },
  {
   "cell_type": "markdown",
   "metadata": {},
   "source": [
    "Логичестическая регрессия и градиентный бустинг показали примерно одинаковый результат, но первая модель чуть лучше и обучается быстрее. Проверим на тестовой выборке."
   ]
  },
  {
   "cell_type": "code",
   "execution_count": 29,
   "metadata": {
    "tags": []
   },
   "outputs": [
    {
     "name": "stdout",
     "output_type": "stream",
     "text": [
      "F1: 0.7555555555555555\n"
     ]
    }
   ],
   "source": [
    "probs_log_res_test = np.where(model_log_res.predict_proba(all_test)[:, 1] >= best_td, 1, 0)\n",
    "print(f'F1: {f1_score(target_test, probs_log_res_test)}')"
   ]
  },
  {
   "cell_type": "markdown",
   "metadata": {},
   "source": [
    "Также можем посмотреть на ROC-кривую того, насколько модель работает точнее возможной случайной или константной модели (пунктир)."
   ]
  },
  {
   "cell_type": "code",
   "execution_count": 30,
   "metadata": {},
   "outputs": [
    {
     "data": {
      "image/png": "[encoded data removed]",
      "text/plain": [
       "<Figure size 640x480 with 1 Axes>"
      ]
     },
     "metadata": {},
     "output_type": "display_data"
    }
   ],
   "source": [
    "fpr, tpr, thresholds = roc_curve(target_test, model_log_res.predict_proba(all_test)[:, 1])\n",
    "auc = roc_auc_score(target_test, probs_log_res_test)\n",
    "\n",
    "plt.figure()\n",
    "plt.plot([0, 1], [0, 1], 'k--')\n",
    "plt.plot(fpr,tpr)\n",
    "\n",
    "plt.xlim([0, 1])\n",
    "plt.ylim([0, 1])\n",
    "\n",
    "plt.xlabel('False Positive Rate')\n",
    "plt.ylabel('True Positive Rate')\n",
    "plt.title('ROC-кривая')\n",
    "plt.show()"
   ]
  },
  {
   "cell_type": "markdown",
   "metadata": {},
   "source": [
    "Вместе с подобранным порогом результат тестовой выборки тоже удовлетворяет требованиям."
   ]
  },
  {
   "cell_type": "markdown",
   "metadata": {},
   "source": [
    "## Выводы"
   ]
  },
  {
   "cell_type": "markdown",
   "metadata": {},
   "source": [
    "В ходе данной работы мы собирались составить модель машинного обучения, которая будет классифицировать комментарии правок на токсичные и нет. Для этого мы загрузили размеченные данные и лемматизировали тексты. После чего преобразовали слова в вектора при помощи TfidfVectorizer с удалением стоп-слов. \n",
    "\n",
    "В кандидаты моделей мы определили: логичестическую регрессию, классификацию с градиентным стохастическим спуском, случайный лес для классификации и градиентный бустинг CatBoost для классификации. Лучше всего себя показали логистическая регрессия и градиентный бустинг. Для первой пришлось подобрать порог для улучшения F1-меры. В качестве финалиста была выбрана лог. регрессия по метрике и скорости обучения, на которой проверили тестовую выборку. Результат оказался не сильно хуже. Итоговые значения:\n",
    "- F1 на тренировочной выборке: 0.7592052243990552\n",
    "- F1 на тестовой выборке: 0.7555555555555555\n",
    "\n",
    "Рекомендую для анализа токсичности комментариев и правок использовать эту предложенную модель логистической регрессии, но нужно учитывать, что обучалась она только на английском языке. Для других языков потребуется новая модель."
   ]
  },
  {
   "cell_type": "code",
   "execution_count": null,
   "metadata": {},
   "outputs": [],
   "source": []
  }
 ],
 "metadata": {
  "kernelspec": {
   "display_name": "Python 3 (ipykernel)",
   "language": "python",
   "name": "python3"
  },
  "language_info": {
   "codemirror_mode": {
    "name": "ipython",
    "version": 3
   },
   "file_extension": ".py",
   "mimetype": "text/x-python",
   "name": "python",
   "nbconvert_exporter": "python",
   "pygments_lexer": "ipython3",
   "version": "3.9.13"
  },
  "toc": {
   "base_numbering": 1,
   "nav_menu": {},
   "number_sections": true,
   "sideBar": true,
   "skip_h1_title": true,
   "title_cell": "Содержание",
   "title_sidebar": "Contents",
   "toc_cell": true,
   "toc_position": {
    "height": "calc(100% - 180px)",
    "left": "10px",
    "top": "150px",
    "width": "302.391px"
   },
   "toc_section_display": true,
   "toc_window_display": false
  }
 },
 "nbformat": 4,
 "nbformat_minor": 4
}
